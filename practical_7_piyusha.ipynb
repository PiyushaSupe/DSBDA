{
  "nbformat": 4,
  "nbformat_minor": 0,
  "metadata": {
    "colab": {
      "provenance": []
    },
    "kernelspec": {
      "name": "python3",
      "display_name": "Python 3"
    },
    "language_info": {
      "name": "python"
    }
  },
  "cells": [
    {
      "cell_type": "markdown",
      "source": [
        "## **23CO315 Piyusha Supe**\n",
        "Practical 7 - Text Analytics\n",
        "1. Extract Sample document and apply following document preprocessing methods:\n",
        "Tokenization, POS Tagging, stop words removal, Stemming and Lemmatization.\n",
        "2. Create representation of document by calculating Term Frequency and Inverse Document\n",
        "Frequency"
      ],
      "metadata": {
        "id": "bAVCkXw_Npm7"
      }
    },
    {
      "cell_type": "code",
      "execution_count": 5,
      "metadata": {
        "colab": {
          "base_uri": "https://localhost:8080/"
        },
        "id": "lQXaKNCeNlrA",
        "outputId": "672f2c50-3d69-49b5-e75f-7e841dbc2f7b"
      },
      "outputs": [
        {
          "output_type": "stream",
          "name": "stderr",
          "text": [
            "[nltk_data] Downloading package punkt to /root/nltk_data...\n",
            "[nltk_data]   Package punkt is already up-to-date!\n",
            "[nltk_data] Downloading package stopwords to /root/nltk_data...\n",
            "[nltk_data]   Package stopwords is already up-to-date!\n",
            "[nltk_data] Downloading package wordnet to /root/nltk_data...\n",
            "[nltk_data]   Package wordnet is already up-to-date!\n",
            "[nltk_data] Downloading package averaged_perceptron_tagger_eng to\n",
            "[nltk_data]     /root/nltk_data...\n",
            "[nltk_data]   Unzipping taggers/averaged_perceptron_tagger_eng.zip.\n"
          ]
        },
        {
          "output_type": "execute_result",
          "data": {
            "text/plain": [
              "True"
            ]
          },
          "metadata": {},
          "execution_count": 5
        }
      ],
      "source": [
        "import nltk\n",
        "import re\n",
        "import pandas as pd\n",
        "from nltk.tokenize import word_tokenize, sent_tokenize\n",
        "from nltk.corpus import stopwords\n",
        "from nltk.stem import PorterStemmer, WordNetLemmatizer\n",
        "from sklearn.feature_extraction.text import TfidfVectorizer\n",
        "\n",
        "# Download necessary resources\n",
        "nltk.download('punkt')\n",
        "nltk.download('stopwords')\n",
        "nltk.download('wordnet')\n",
        "nltk.download('averaged_perceptron_tagger_eng')\n"
      ]
    },
    {
      "cell_type": "code",
      "source": [
        "# Sample text about whales (50 words)\n",
        "text1 = \"\"\"Whales are the largest marine mammals. They belong to the cetacean family,\n",
        "which includes dolphins and porpoises. Blue whales are the biggest, reaching up to\n",
        "100 feet in length. They communicate using low-frequency sounds. Whales migrate long\n",
        "distances for breeding and feeding. Their conservation is crucial for marine biodiversity.\"\"\"\n",
        "\n",
        "# Sample text about goldfish (50 words)\n",
        "text2 = \"\"\"Goldfish are small freshwater fish commonly kept as pets. They originate from East Asia\n",
        "and belong to the carp family. Goldfish can recognize their owners and learn feeding schedules.\n",
        "They require clean water and proper nutrition to thrive. Some varieties grow up to a foot in size.\"\"\"\n",
        "\n",
        "documents = [text1, text2]\n"
      ],
      "metadata": {
        "id": "8TODd13qO5I0"
      },
      "execution_count": 6,
      "outputs": []
    },
    {
      "cell_type": "code",
      "source": [
        "nltk.download(\"punkt_tab\")\n",
        "# Initialize tools\n",
        "stop_words = set(stopwords.words(\"english\"))\n",
        "ps = PorterStemmer()\n",
        "lemmatizer = WordNetLemmatizer()\n",
        "\n",
        "# Function for text preprocessing\n",
        "def preprocess_text(text):\n",
        "    # Convert to lowercase\n",
        "    text = text.lower()\n",
        "\n",
        "    # Remove punctuation\n",
        "    text = re.sub(r'[^a-z\\s]', '', text)\n",
        "\n",
        "    # Remove all punctuation\n",
        "    cleaned_text = re.sub(f\"[{re.escape(string.punctuation)}]\", \"\", text)\n",
        "\n",
        "    # Tokenization\n",
        "    tokens = word_tokenize(text)\n",
        "\n",
        "    # Remove stop words\n",
        "    filtered_tokens = [word for word in tokens if word not in stop_words]\n",
        "\n",
        "    # Perform POS tagging\n",
        "    pos_tags = nltk.pos_tag(filtered_tokens)\n",
        "\n",
        "    # Perform stemming\n",
        "    stemmed_words = [ps.stem(word) for word in filtered_tokens]\n",
        "\n",
        "    # Perform lemmatization\n",
        "    lemmatized_words = [lemmatizer.lemmatize(word) for word in filtered_tokens]\n",
        "\n",
        "    return {\n",
        "        \"tokens\": tokens,\n",
        "        \"filtered_tokens\": filtered_tokens,\n",
        "        \"pos_tags\": pos_tags,\n",
        "        \"stemmed_words\": stemmed_words,\n",
        "        \"lemmatized_words\": lemmatized_words\n",
        "    }\n",
        "\n",
        "# Apply preprocessing\n",
        "processed_text1 = preprocess_text(text1)\n",
        "processed_text2 = preprocess_text(text2)\n"
      ],
      "metadata": {
        "colab": {
          "base_uri": "https://localhost:8080/"
        },
        "id": "7UP9MdLdO_o6",
        "outputId": "b163718d-ac15-45ef-955e-5a055b5cc963"
      },
      "execution_count": 7,
      "outputs": [
        {
          "output_type": "stream",
          "name": "stderr",
          "text": [
            "[nltk_data] Downloading package punkt_tab to /root/nltk_data...\n",
            "[nltk_data]   Package punkt_tab is already up-to-date!\n"
          ]
        }
      ]
    },
    {
      "cell_type": "code",
      "source": [
        "print(\"\\nPreprocessed Results for Text 1 (Whales):\")\n",
        "print(\"Tokens:\", processed_text1[\"tokens\"])\n",
        "print(\"Filtered Tokens (Stopwords & Punctuation Removed):\", processed_text1[\"filtered_tokens\"])\n",
        "print(\"POS Tags:\", processed_text1[\"pos_tags\"])\n",
        "print(\"Stemmed Words:\", processed_text1[\"stemmed_words\"])\n",
        "print(\"Lemmatized Words:\", processed_text1[\"lemmatized_words\"])\n",
        "\n",
        "print(\"\\nPreprocessed Results for Text 2 (Goldfish):\")\n",
        "print(\"Tokens:\", processed_text2[\"tokens\"])\n",
        "print(\"Filtered Tokens (Stopwords & Punctuation Removed):\", processed_text2[\"filtered_tokens\"])\n",
        "print(\"POS Tags:\", processed_text2[\"pos_tags\"])\n",
        "print(\"Stemmed Words:\", processed_text2[\"stemmed_words\"])\n",
        "print(\"Lemmatized Words:\", processed_text2[\"lemmatized_words\"])\n"
      ],
      "metadata": {
        "colab": {
          "base_uri": "https://localhost:8080/"
        },
        "id": "UcojXpVDPB5N",
        "outputId": "dd644080-2caf-4cea-e2ca-d50ac30adce1"
      },
      "execution_count": 8,
      "outputs": [
        {
          "output_type": "stream",
          "name": "stdout",
          "text": [
            "\n",
            "Preprocessed Results for Text 1 (Whales):\n",
            "Tokens: ['whales', 'are', 'the', 'largest', 'marine', 'mammals', 'they', 'belong', 'to', 'the', 'cetacean', 'family', 'which', 'includes', 'dolphins', 'and', 'porpoises', 'blue', 'whales', 'are', 'the', 'biggest', 'reaching', 'up', 'to', 'feet', 'in', 'length', 'they', 'communicate', 'using', 'lowfrequency', 'sounds', 'whales', 'migrate', 'long', 'distances', 'for', 'breeding', 'and', 'feeding', 'their', 'conservation', 'is', 'crucial', 'for', 'marine', 'biodiversity']\n",
            "Filtered Tokens (Stopwords & Punctuation Removed): ['whales', 'largest', 'marine', 'mammals', 'belong', 'cetacean', 'family', 'includes', 'dolphins', 'porpoises', 'blue', 'whales', 'biggest', 'reaching', 'feet', 'length', 'communicate', 'using', 'lowfrequency', 'sounds', 'whales', 'migrate', 'long', 'distances', 'breeding', 'feeding', 'conservation', 'crucial', 'marine', 'biodiversity']\n",
            "POS Tags: [('whales', 'NNS'), ('largest', 'JJS'), ('marine', 'NN'), ('mammals', 'NNS'), ('belong', 'JJ'), ('cetacean', 'JJ'), ('family', 'NN'), ('includes', 'VBZ'), ('dolphins', 'NNS'), ('porpoises', 'NNS'), ('blue', 'JJ'), ('whales', 'NNS'), ('biggest', 'JJS'), ('reaching', 'VBG'), ('feet', 'NNS'), ('length', 'JJ'), ('communicate', 'NN'), ('using', 'VBG'), ('lowfrequency', 'NN'), ('sounds', 'VBZ'), ('whales', 'NNS'), ('migrate', 'VBP'), ('long', 'JJ'), ('distances', 'NNS'), ('breeding', 'VBG'), ('feeding', 'VBG'), ('conservation', 'NN'), ('crucial', 'JJ'), ('marine', 'NN'), ('biodiversity', 'NN')]\n",
            "Stemmed Words: ['whale', 'largest', 'marin', 'mammal', 'belong', 'cetacean', 'famili', 'includ', 'dolphin', 'porpois', 'blue', 'whale', 'biggest', 'reach', 'feet', 'length', 'commun', 'use', 'lowfrequ', 'sound', 'whale', 'migrat', 'long', 'distanc', 'breed', 'feed', 'conserv', 'crucial', 'marin', 'biodivers']\n",
            "Lemmatized Words: ['whale', 'largest', 'marine', 'mammal', 'belong', 'cetacean', 'family', 'includes', 'dolphin', 'porpoise', 'blue', 'whale', 'biggest', 'reaching', 'foot', 'length', 'communicate', 'using', 'lowfrequency', 'sound', 'whale', 'migrate', 'long', 'distance', 'breeding', 'feeding', 'conservation', 'crucial', 'marine', 'biodiversity']\n",
            "\n",
            "Preprocessed Results for Text 2 (Goldfish):\n",
            "Tokens: ['goldfish', 'are', 'small', 'freshwater', 'fish', 'commonly', 'kept', 'as', 'pets', 'they', 'originate', 'from', 'east', 'asia', 'and', 'belong', 'to', 'the', 'carp', 'family', 'goldfish', 'can', 'recognize', 'their', 'owners', 'and', 'learn', 'feeding', 'schedules', 'they', 'require', 'clean', 'water', 'and', 'proper', 'nutrition', 'to', 'thrive', 'some', 'varieties', 'grow', 'up', 'to', 'a', 'foot', 'in', 'size']\n",
            "Filtered Tokens (Stopwords & Punctuation Removed): ['goldfish', 'small', 'freshwater', 'fish', 'commonly', 'kept', 'pets', 'originate', 'east', 'asia', 'belong', 'carp', 'family', 'goldfish', 'recognize', 'owners', 'learn', 'feeding', 'schedules', 'require', 'clean', 'water', 'proper', 'nutrition', 'thrive', 'varieties', 'grow', 'foot', 'size']\n",
            "POS Tags: [('goldfish', 'VB'), ('small', 'JJ'), ('freshwater', 'NN'), ('fish', 'NN'), ('commonly', 'RB'), ('kept', 'VBD'), ('pets', 'NNS'), ('originate', 'JJ'), ('east', 'JJ'), ('asia', 'NN'), ('belong', 'NN'), ('carp', 'VBP'), ('family', 'NN'), ('goldfish', 'JJ'), ('recognize', 'NN'), ('owners', 'NNS'), ('learn', 'VBP'), ('feeding', 'VBG'), ('schedules', 'NNS'), ('require', 'VBP'), ('clean', 'JJ'), ('water', 'NN'), ('proper', 'JJ'), ('nutrition', 'NN'), ('thrive', 'JJ'), ('varieties', 'NNS'), ('grow', 'VBP'), ('foot', 'NN'), ('size', 'NN')]\n",
            "Stemmed Words: ['goldfish', 'small', 'freshwat', 'fish', 'commonli', 'kept', 'pet', 'origin', 'east', 'asia', 'belong', 'carp', 'famili', 'goldfish', 'recogn', 'owner', 'learn', 'feed', 'schedul', 'requir', 'clean', 'water', 'proper', 'nutrit', 'thrive', 'varieti', 'grow', 'foot', 'size']\n",
            "Lemmatized Words: ['goldfish', 'small', 'freshwater', 'fish', 'commonly', 'kept', 'pet', 'originate', 'east', 'asia', 'belong', 'carp', 'family', 'goldfish', 'recognize', 'owner', 'learn', 'feeding', 'schedule', 'require', 'clean', 'water', 'proper', 'nutrition', 'thrive', 'variety', 'grow', 'foot', 'size']\n"
          ]
        }
      ]
    },
    {
      "cell_type": "code",
      "source": [
        "# Split documents into word lists (after removing punctuation and lowering case)\n",
        "def clean_and_tokenize(doc):\n",
        "    doc = doc.lower()\n",
        "    doc = re.sub(r'[^a-z\\s]', '', doc)\n",
        "    return doc.split()\n",
        "\n",
        "bagOfWords1 = clean_and_tokenize(text1)\n",
        "bagOfWords2 = clean_and_tokenize(text2)\n",
        "\n",
        "# Get the unique set of all words in both documents\n",
        "uniqueWords = set(bagOfWords1).union(set(bagOfWords2))\n"
      ],
      "metadata": {
        "id": "OGZGJUyvPb_B"
      },
      "execution_count": 11,
      "outputs": []
    },
    {
      "cell_type": "code",
      "source": [
        "# Initialize word count dictionaries\n",
        "numOfWords1 = dict.fromkeys(uniqueWords, 0)\n",
        "numOfWords2 = dict.fromkeys(uniqueWords, 0)\n",
        "\n",
        "for word in bagOfWords1:\n",
        "    numOfWords1[word] += 1\n",
        "\n",
        "for word in bagOfWords2:\n",
        "    numOfWords2[word] += 1\n"
      ],
      "metadata": {
        "id": "aiTJCuFrPro_"
      },
      "execution_count": 12,
      "outputs": []
    },
    {
      "cell_type": "code",
      "source": [
        "def computeTF(wordDict, bagOfWords):\n",
        "    tfDict = {}\n",
        "    totalWords = len(bagOfWords)\n",
        "    for word, count in wordDict.items():\n",
        "        tfDict[word] = count / totalWords\n",
        "    return tfDict\n",
        "\n",
        "tf1 = computeTF(numOfWords1, bagOfWords1)\n",
        "tf2 = computeTF(numOfWords2, bagOfWords2)\n"
      ],
      "metadata": {
        "id": "7w-_js6jQIzy"
      },
      "execution_count": 13,
      "outputs": []
    },
    {
      "cell_type": "code",
      "source": [
        "import math\n",
        "\n",
        "def computeIDF(docList):\n",
        "    N = len(docList)\n",
        "    idfDict = dict.fromkeys(docList[0].keys(), 0)\n",
        "    for doc in docList:\n",
        "        for word, val in doc.items():\n",
        "            if val > 0:\n",
        "                idfDict[word] += 1\n",
        "    for word, val in idfDict.items():\n",
        "        idfDict[word] = math.log(N / float(val))\n",
        "    return idfDict\n",
        "\n",
        "idfs = computeIDF([numOfWords1, numOfWords2])\n"
      ],
      "metadata": {
        "id": "3BXwBCnOQKrB"
      },
      "execution_count": 14,
      "outputs": []
    },
    {
      "cell_type": "code",
      "source": [
        "def computeTFIDF(tf, idf):\n",
        "    tfidf = {}\n",
        "    for word, val in tf.items():\n",
        "        tfidf[word] = val * idf[word]\n",
        "    return tfidf\n",
        "\n",
        "tfidf1 = computeTFIDF(tf1, idfs)\n",
        "tfidf2 = computeTFIDF(tf2, idfs)\n"
      ],
      "metadata": {
        "id": "0c5scA9aQQiB"
      },
      "execution_count": 15,
      "outputs": []
    },
    {
      "cell_type": "code",
      "source": [
        "import pandas as pd\n",
        "\n",
        "df = pd.DataFrame([tfidf1, tfidf2])\n",
        "df.index = ['Document 1 - Whales', 'Document 2 - Goldfish']\n",
        "\n",
        "print(\"\\nTF-IDF Representation:\")\n",
        "print(df)\n"
      ],
      "metadata": {
        "colab": {
          "base_uri": "https://localhost:8080/"
        },
        "id": "hz93DkX6QSkA",
        "outputId": "ff109b4f-5b54-49c7-e031-dee90ab494f0"
      },
      "execution_count": 16,
      "outputs": [
        {
          "output_type": "stream",
          "name": "stdout",
          "text": [
            "\n",
            "TF-IDF Representation:\n",
            "                       feeding    whales      from      some  reaching  \\\n",
            "Document 1 - Whales        0.0  0.043322  0.000000  0.000000  0.014441   \n",
            "Document 2 - Goldfish      0.0  0.000000  0.014748  0.014748  0.000000   \n",
            "\n",
            "                       varieties  dolphins  recognize     small       can  \\\n",
            "Document 1 - Whales     0.000000  0.014441   0.000000  0.000000  0.000000   \n",
            "Document 2 - Goldfish   0.014748  0.000000   0.014748  0.014748  0.014748   \n",
            "\n",
            "                       ...  originate  freshwater  biodiversity  and  \\\n",
            "Document 1 - Whales    ...   0.000000    0.000000      0.014441  0.0   \n",
            "Document 2 - Goldfish  ...   0.014748    0.014748      0.000000  0.0   \n",
            "\n",
            "                           size       for      east     using  are   to  \n",
            "Document 1 - Whales    0.000000  0.028881  0.000000  0.014441  0.0  0.0  \n",
            "Document 2 - Goldfish  0.014748  0.000000  0.014748  0.000000  0.0  0.0  \n",
            "\n",
            "[2 rows x 68 columns]\n"
          ]
        }
      ]
    },
    {
      "cell_type": "code",
      "source": [
        "import matplotlib.pyplot as plt\n",
        "\n",
        "# Get top 5 TF-IDF words from each document\n",
        "top_words_doc1 = dict(sorted(tfidf1.items(), key=lambda item: item[1], reverse=True)[:5])\n",
        "top_words_doc2 = dict(sorted(tfidf2.items(), key=lambda item: item[1], reverse=True)[:5])\n",
        "\n",
        "# Plot for Document 1\n",
        "plt.figure(figsize=(6, 4))\n",
        "plt.bar(top_words_doc1.keys(), top_words_doc1.values(), color='skyblue')\n",
        "plt.title(\"Top TF-IDF Words in Document 1 (Whales)\")\n",
        "plt.xlabel(\"Words\")\n",
        "plt.ylabel(\"TF-IDF Score\")\n",
        "plt.tight_layout()\n",
        "plt.show()\n",
        "\n",
        "# Plot for Document 2\n",
        "plt.figure(figsize=(6, 4))\n",
        "plt.bar(top_words_doc2.keys(), top_words_doc2.values(), color='orange')\n",
        "plt.title(\"Top TF-IDF Words in Document 2 (Goldfish)\")\n",
        "plt.xlabel(\"Words\")\n",
        "plt.ylabel(\"TF-IDF Score\")\n",
        "plt.tight_layout()\n",
        "plt.show()\n"
      ],
      "metadata": {
        "colab": {
          "base_uri": "https://localhost:8080/",
          "height": 797
        },
        "id": "6ueLgux-QUbj",
        "outputId": "5bd90fe1-70e6-409e-e2ca-eb7ee0f2d9f1"
      },
      "execution_count": 17,
      "outputs": [
        {
          "output_type": "display_data",
          "data": {
            "text/plain": [
              "<Figure size 600x400 with 1 Axes>"
            ],
            "image/png": "[encoded data removed]"
          },
          "metadata": {}
        },
        {
          "output_type": "display_data",
          "data": {
            "text/plain": [
              "<Figure size 600x400 with 1 Axes>"
            ],
            "image/png": "[encoded data removed]"
          },
          "metadata": {}
        }
      ]
    },
    {
      "cell_type": "code",
      "source": [],
      "metadata": {
        "id": "3mX2zD2-Qb_h"
      },
      "execution_count": null,
      "outputs": []
    }
  ]
}